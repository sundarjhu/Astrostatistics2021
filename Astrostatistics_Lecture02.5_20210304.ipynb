{
  "nbformat": 4,
  "nbformat_minor": 0,
  "metadata": {
    "colab": {
      "name": "Astrostatistics_Lecture02_20210304.ipynb",
      "provenance": [],
      "authorship_tag": "ABX9TyPUbanNJubpx8BdG9+c1OH9",
      "include_colab_link": true
    },
    "kernelspec": {
      "name": "python3",
      "display_name": "Python 3"
    }
  },
  "cells": [
    {
      "cell_type": "markdown",
      "metadata": {
        "id": "view-in-github",
        "colab_type": "text"
      },
      "source": [
        "<a href=\"https://colab.research.google.com/github/sundarjhu/Astrostatistics2021/blob/main/Astrostatistics_Lecture02.5_20210304.ipynb\" target=\"_parent\"><img src=\"https://colab.research.google.com/assets/colab-badge.svg\" alt=\"Open In Colab\"/></a>"
      ]
    },
    {
      "cell_type": "code",
      "metadata": {
        "id": "2NlXLxnHIU6l"
      },
      "source": [
        "seed = 10001 #set the random seed for subsequent calls to random-number generators"
      ],
      "execution_count": null,
      "outputs": []
    },
    {
      "cell_type": "markdown",
      "metadata": {
        "id": "5-LWrxuLId0W"
      },
      "source": [
        "##Demonstrating the properties of the mean and variance\n",
        "###The expectation value of (a random variable plus a constant) is the population mean of the random variable plus the constant.\n",
        ">Why? Because (a) the expectation value is a linear operator, and (b) the expectation value of a constant is that constant.\n",
        "###The variance of (a random variable plus a constant) is the variance of the random variable.\n",
        ">Why? Because (a) the variance is a linear operator, and (b) the variance of a constant is zero."
      ]
    },
    {
      "cell_type": "code",
      "metadata": {
        "colab": {
          "base_uri": "https://localhost:8080/"
        },
        "id": "WLTEz38TxoqB",
        "outputId": "9593e12e-1797-4968-9e48-6d3c4aa52318"
      },
      "source": [
        "import numpy as np\n",
        "np.random.seed(seed)             #for reproducibility\n",
        "x = np.random.uniform(size = 20) #sample of 20 uniform random numbers between 0 and 1 (Expectation value = 0.5)\n",
        "print(\"The sample mean is {}\".format(np.round(x.mean(), decimals = 3)))\n",
        "print(\"The sample variance is {}\".format(np.round(x.var(), decimals = 3)))\n",
        "print(\"The sample mean of x + 3 is {}\".format(np.round((x + 3).mean(), decimals = 3))) #should be 3 + x.mean()\n",
        "print(\"The sample variance of x + 3 is {}\".format(np.round((x + 3).var(), decimals = 3))) # should be x.var()"
      ],
      "execution_count": null,
      "outputs": [
        {
          "output_type": "stream",
          "text": [
            "The sample mean is 0.497\n",
            "The sample variance is 0.068\n",
            "The sample mean of x + 3 is 3.497\n",
            "The sample variance of x + 3 is 0.068\n"
          ],
          "name": "stdout"
        }
      ]
    },
    {
      "cell_type": "markdown",
      "metadata": {
        "id": "jorxbtxsXdml"
      },
      "source": [
        "##Evaluating the covariance matrix for three correlated random variables\n",
        "\n",
        "####$X$ is a random variable, and $Y$ and $Z$ are functions of $X$:\n",
        ">$Y = X^2; Z = 1 / X$.\n",
        "####$Y$ is therefore positively correlated with $X$, and $Z$ is negatively correlated with it.\n"
      ]
    },
    {
      "cell_type": "code",
      "metadata": {
        "colab": {
          "base_uri": "https://localhost:8080/"
        },
        "id": "I030c8EwXeM9",
        "outputId": "a0697bf8-d106-4649-da5c-fa6c8f5b8425"
      },
      "source": [
        "import numpy as np\n",
        "np.random.seed(seed)             #for reproducibility\n",
        "x = np.random.uniform(size = 20) #sample of 20 uniform random numbers between 0 and 1\n",
        "y = x**2; z = 1/x                #positively- and anti-correlated with x\n",
        "X = np.array([x, y, z])          #20 samples of a 4-element random vector\n",
        "print(\"The covariance matrix for the two variables is:\")\n",
        "print(np.round(np.cov(X), decimals = 2))"
      ],
      "execution_count": null,
      "outputs": [
        {
          "output_type": "stream",
          "text": [
            "The covariance matrix for the two variables is:\n",
            "[[ 0.07  0.07 -0.72]\n",
            " [ 0.07  0.07 -0.6 ]\n",
            " [-0.72 -0.6  10.91]]\n"
          ],
          "name": "stdout"
        }
      ]
    },
    {
      "cell_type": "markdown",
      "metadata": {
        "id": "ve7pFmT2ZiTW"
      },
      "source": [
        "##Evaluating the covariance matrix for two independent random variables\n",
        "###$x$ and $w$ are built from independent calls to np.random.uniform.\n",
        "###Expectation: the covariance matrix is diagonal (off-diagonal elements should be close to zero)."
      ]
    },
    {
      "cell_type": "code",
      "metadata": {
        "colab": {
          "base_uri": "https://localhost:8080/"
        },
        "id": "3b5FQKHPXsee",
        "outputId": "767196ba-3ed2-4232-ea71-222543eb70f1"
      },
      "source": [
        "samples = [10, 1000, 10000, 1000000]\n",
        "for N in samples:\n",
        "  np.random.seed(seed)             #for reproducibility\n",
        "  x = np.random.uniform(size = N)  #sample of N uniform random numbers between 0 and 1\n",
        "  np.random.seed(seed + 1)         #for reproducibility and independence\n",
        "  w = np.random.uniform(size = N)  #no correlation expected with x\n",
        "  print(\"*****Covariance matrix from {} samples\".format(N))\n",
        "  print(np.cov(np.array([x, w])))\n",
        "  print(\"-----\")"
      ],
      "execution_count": null,
      "outputs": [
        {
          "output_type": "stream",
          "text": [
            "*****Covariance matrix from 10 samples\n",
            "[[0.08343402 0.00593563]\n",
            " [0.00593563 0.08128469]]\n",
            "-----\n",
            "*****Covariance matrix from 1000 samples\n",
            "[[ 0.08345954 -0.00303727]\n",
            " [-0.00303727  0.0817306 ]]\n",
            "-----\n",
            "*****Covariance matrix from 10000 samples\n",
            "[[ 8.28494090e-02 -9.95351161e-05]\n",
            " [-9.95351161e-05  8.45424787e-02]]\n",
            "-----\n",
            "*****Covariance matrix from 1000000 samples\n",
            "[[8.33598815e-02 1.33373657e-05]\n",
            " [1.33373657e-05 8.33893600e-02]]\n",
            "-----\n"
          ],
          "name": "stdout"
        }
      ]
    },
    {
      "cell_type": "markdown",
      "metadata": {
        "id": "3Lx4E7xvbuDo"
      },
      "source": [
        "##Evaluating the Pearson Correlation Coefficient\n",
        "###We define $Y = X^2$ and $Z = 1/X$\n",
        "###Let's evaluate Pearson's Correlation Coefficient between each pair of variables.\n",
        ">We do this in two ways -- from the definition of the covariance, and then using the np.corrcoef method."
      ]
    },
    {
      "cell_type": "code",
      "metadata": {
        "colab": {
          "base_uri": "https://localhost:8080/"
        },
        "id": "GltGRwkHZHOG",
        "outputId": "eda6e603-146b-446d-a6df-866e9dc23eec"
      },
      "source": [
        "import numpy as np\n",
        "np.random.seed(seed)\n",
        "N = 1000000\n",
        "x = np.random.uniform(size = N); y = x**2; z = 1/x\n",
        "np.random.seed(seed + 1)\n",
        "w = np.random.uniform(size = N)\n",
        "Sigma = np.cov(np.array([x, y, z, w]))\n",
        "X = np.array([x, y, z, w])\n",
        "vnames = ['X', 'Y', 'Z', 'W']\n",
        "#The following should return the same value}\n",
        "i = 0 #compare other variables to X\n",
        "for j in [0, 1, 2, 3]:\n",
        "  cc1 = Sigma[i, j] / np.sqrt(Sigma[i,i] * Sigma[j,j])\n",
        "  print(\"Correlation coefficient ({}, {}) from definition of covariance: {}\".format(vnames[i], vnames[j], np.round(cc1, decimals = 3)))\n",
        "  cc2 = np.corrcoef(X[i], y = X[j])[0, 1]\n",
        "  print(\"Correlation coefficient ({}, {}) from definition of covariance: {}\".format(vnames[i], vnames[j], np.round(cc2, decimals = 3)))"
      ],
      "execution_count": null,
      "outputs": [
        {
          "output_type": "stream",
          "text": [
            "Correlation coefficient (X, X) from definition of covariance: 1.0\n",
            "Correlation coefficient (X, X) from definition of covariance: 1.0\n",
            "Correlation coefficient (X, Y) from definition of covariance: 0.968\n",
            "Correlation coefficient (X, Y) from definition of covariance: 0.968\n",
            "Correlation coefficient (X, Z) from definition of covariance: -0.021\n",
            "Correlation coefficient (X, Z) from definition of covariance: -0.021\n",
            "Correlation coefficient (X, W) from definition of covariance: 0.0\n",
            "Correlation coefficient (X, W) from definition of covariance: 0.0\n"
          ],
          "name": "stdout"
        }
      ]
    },
    {
      "cell_type": "code",
      "metadata": {
        "id": "p0BFpHyVbqIH"
      },
      "source": [
        ""
      ],
      "execution_count": null,
      "outputs": []
    }
  ]
}