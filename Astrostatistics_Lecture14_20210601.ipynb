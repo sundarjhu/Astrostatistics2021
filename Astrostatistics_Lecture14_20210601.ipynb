{
  "nbformat": 4,
  "nbformat_minor": 0,
  "metadata": {
    "colab": {
      "name": "Astrostatistics_Lecture14_20210601.ipynb",
      "provenance": [],
      "include_colab_link": true
    },
    "kernelspec": {
      "display_name": "Python 3",
      "language": "python",
      "name": "python3"
    },
    "language_info": {
      "codemirror_mode": {
        "name": "ipython",
        "version": 3
      },
      "file_extension": ".py",
      "mimetype": "text/x-python",
      "name": "python",
      "nbconvert_exporter": "python",
      "pygments_lexer": "ipython3",
      "version": "3.7.6"
    }
  },
  "cells": [
    {
      "cell_type": "markdown",
      "metadata": {
        "id": "view-in-github",
        "colab_type": "text"
      },
      "source": [
        "<a href=\"https://colab.research.google.com/github/sundarjhu/Astrostatistics2021/blob/main/Astrostatistics_Lecture14_20210601.ipynb\" target=\"_parent\"><img src=\"https://colab.research.google.com/assets/colab-badge.svg\" alt=\"Open In Colab\"/></a>"
      ]
    },
    {
      "cell_type": "code",
      "metadata": {
        "id": "ebzzfPwFX5rD",
        "colab": {
          "base_uri": "https://localhost:8080/"
        },
        "outputId": "425a1218-67bc-4303-ed19-b8f5a7329601"
      },
      "source": [
        "seed = 20001\n",
        "import numpy as np\n",
        "from scipy.stats import expon\n",
        "np.random.seed(seed)\n",
        "scale = 3\n",
        "x = expon.rvs(scale = scale, size = 10) #mean: scale. variance: scale**2\n",
        "x"
      ],
      "execution_count": 8,
      "outputs": [
        {
          "output_type": "execute_result",
          "data": {
            "text/plain": [
              "array([4.57225513, 0.88710949, 6.75265182, 2.37323278, 1.2924811 ,\n",
              "       1.8693004 , 2.04175908, 6.89670467, 2.90285318, 3.76156058])"
            ]
          },
          "metadata": {
            "tags": []
          },
          "execution_count": 8
        }
      ]
    },
    {
      "cell_type": "markdown",
      "metadata": {
        "id": "nu3CutLuPvdz"
      },
      "source": [
        "#Bootstrap illustration\n",
        "##The sample \n",
        "##$x = [4.572, 0.887, 6.753, 2.373, 1.293, 1.869, 2.042, 6.897, 2.903, 3.762]$\n",
        "##is drawn from an unknown distribution. \n",
        "\n",
        "##Use the bootstrap algorithm to estimate the population mean of this distribution."
      ]
    },
    {
      "cell_type": "code",
      "metadata": {
        "id": "P-h9tswtSh38",
        "colab": {
          "base_uri": "https://localhost:8080/",
          "height": 334
        },
        "outputId": "5d63994b-f9fb-4b71-8b09-9362b123b34c"
      },
      "source": [
        "import numpy as np\n",
        "import matplotlib.pyplot as plt\n",
        "from scipy.special import binom\n",
        "\n",
        "scale = 3 #true mean of population (used to generate the data)\n",
        "x = [4.572, 0.887, 6.753, 2.373, 1.293, 1.869, 2.042, 6.897, 2.903, 3.762]\n",
        "N = len(x)\n",
        "B = binom(2 * N - 1, N) #maximum number of unique N-element samples from x\n",
        "print(\"Maximum number of unique {}-element samples possible from original dataset: {}\".format(N, int(B)))\n",
        "\n",
        "#Bootstrap sampling procedure\n",
        "Bsamples = 100000\n",
        "xx = np.random.choice(x, size = (10, Bsamples)) #This includes permutations of the same array. How do we fix that? [Homework!]\n",
        "mean = xx.mean(axis = 0)\n",
        "std_on_mean = xx.std(ddof = 1, axis = 0) / np.sqrt(N)\n",
        "print(\"Bootstrap estimate for the population mean: {}.\".format(np.round(mean.mean(), decimals = 3)))\n",
        "print(\"Bootstrap estimate of standard deviation on the population mean: {}.\".format(np.round(std_on_mean.mean(), decimals = 3)))\n",
        "#Done bootstrap sampling, plot resulting sampling distribution\n",
        "\n",
        "plt.hist(mean, histtype = 'step', label = 'mean', density = True)\n",
        "plt.hist(std_on_mean, histtype = 'step', label = 'std_on_mean', density = True)\n",
        "plt.legend(loc = 'best')\n",
        "plt.show()\n",
        "print(\"The 95% central confidence interval for the population mean is {}\".format(np.round(CI, decimals = 3)))"
      ],
      "execution_count": 15,
      "outputs": [
        {
          "output_type": "stream",
          "text": [
            "Maximum number of unique 10-element samples possible from original dataset: 92378\n",
            "Bootstrap estimate for the population mean: 3.333.\n",
            "Bootstrap estimate of standard deviation on the population mean: 0.628.\n"
          ],
          "name": "stdout"
        },
        {
          "output_type": "display_data",
          "data": {
            "image/png": "[encoded data removed]",
            "text/plain": [
              "<Figure size 432x288 with 1 Axes>"
            ]
          },
          "metadata": {
            "tags": [],
            "needs_background": "light"
          }
        },
        {
          "output_type": "stream",
          "text": [
            "The 95% central confidence interval for the population mean is [2.15  4.646]\n"
          ],
          "name": "stdout"
        }
      ]
    },
    {
      "cell_type": "markdown",
      "metadata": {
        "id": "7FwqkocMX5rF"
      },
      "source": [
        "# Two-sample $t$-test on independent and dependent/paired/matched/correlated samples.\n",
        "\n",
        "> ### Assumptions:<br> - Samples are drawn from a Gaussian distribution.<br> - Sample sizes approximately equal.<br> - Samples have the same variance (relaxed versions exist: Welch's $t$-test)."
      ]
    },
    {
      "cell_type": "markdown",
      "metadata": {
        "id": "Epz7Q7xcX5rF"
      },
      "source": [
        "## Independent samples"
      ]
    },
    {
      "cell_type": "markdown",
      "metadata": {
        "id": "NnRnHVgPX5rG"
      },
      "source": [
        "### Generate two independent samples from a Normal distribution"
      ]
    },
    {
      "cell_type": "code",
      "metadata": {
        "id": "wXFcvA_6X5rG"
      },
      "source": [
        "from scipy.stats import norm\n",
        "import numpy as np\n",
        "N = 50; N1 = 50; N2 = 50\n",
        "np.random.seed(seed)\n",
        "#Notice the means are different by design!\n",
        "x1 = norm.rvs(loc = 0.0, size = N); x2 = norm.rvs(loc = 1.0, size = N)"
      ],
      "execution_count": null,
      "outputs": []
    },
    {
      "cell_type": "markdown",
      "metadata": {
        "id": "kg4xpEitX5rH"
      },
      "source": [
        "### Compute the $t$-statistic for the difference in means\n",
        "#### $t = \\displaystyle{\\overline{x_1} - \\overline{x_2}\\over \\sqrt{\\displaystyle{\\hat{\\sigma_1^2}\\over N} + \\displaystyle{\\hat{\\sigma_2^2}\\over N}}}$"
      ]
    },
    {
      "cell_type": "code",
      "metadata": {
        "id": "DHP8ANxiX5rH",
        "outputId": "a105662f-9206-4e34-9ad2-ad48d876835e"
      },
      "source": [
        "se1 = x1.std(ddof = 1) / np.sqrt(N) #standard error on sample mean of sample 1\n",
        "se2 = x2.std(ddof = 1) / np.sqrt(N) #standard error on sample mean of sample 2\n",
        "sed = np.sqrt(se1**2 + se2**2) #standard error on pooled sample\n",
        "tstat = (x1.mean() - x2.mean()) / sed\n",
        "#Total number of degrees of freedom in pooled sample is total number of points - 2\n",
        "#      because two population means are estimated from the samples.\n",
        "df = (N1 -1) + (N2 - 1)\n",
        "print(\"The t-statistic is {} and has {} degrees of freedom\".format(np.round(tstat, decimals = 3),df))"
      ],
      "execution_count": null,
      "outputs": [
        {
          "output_type": "stream",
          "text": [
            "The t-statistic is -6.72 and has 98 degrees of freedom\n"
          ],
          "name": "stdout"
        }
      ]
    },
    {
      "cell_type": "markdown",
      "metadata": {
        "id": "jitz1S9BX5rI"
      },
      "source": [
        "### Determine $p$-value of the observed $t$-statistic"
      ]
    },
    {
      "cell_type": "code",
      "metadata": {
        "id": "aDIS9ighX5rJ",
        "outputId": "d646de12-5ec6-451d-f928-a1713c405f56"
      },
      "source": [
        "from scipy.stats import t\n",
        "alpha = 0.05\n",
        "\n",
        "choice = input(\"Perform one-tailed test? [Y]/N: \")\n",
        "if choice.upper() == 'Y':\n",
        "    print(\"OK, performing one-tailed test...\")\n",
        "    if tstat < 0:\n",
        "        pvalue = t.cdf(tstat, df)\n",
        "        print(\"Observed t statistic is negative, performing left-tailed test\")\n",
        "        print(\"p-value for t <= observed value is \", np.format_float_scientific(pvalue, precision=2))\n",
        "    else:\n",
        "        pvalue = 1 - t.cdf(tstat, df)\n",
        "        print(\"Observed t statistic is positive, performing right-tailed test\")\n",
        "        print(\"p-value for t >= observed value is \", np.format_float_scientific(pvalue, precision=2))\n",
        "else:\n",
        "    tstat_abs = np.abs(tstat)\n",
        "    pvalue = t.cdf(-tstat_abs, df) + 1 - t.cdf(tstat_abs, df)\n",
        "    print(\"OK, performing two-tailed test...\")\n",
        "    print(\"p-value for |t| >= observed value is \", np.format_float_scientific(pvalue, precision=2))\n",
        "\n",
        "if pvalue <= alpha:\n",
        "    print(\"Since p-value is <= alpha, the null hypothesis is rejected.\")\n",
        "else:\n",
        "    print(\"Since p-value is > alpha, the null hypothesis cannot be rejected.\")"
      ],
      "execution_count": null,
      "outputs": [
        {
          "output_type": "stream",
          "text": [
            "Perform one-tailed test? [Y]/N: y\n",
            "OK, performing one-tailed test...\n",
            "Observed t statistic is negative, performing left-tailed test\n",
            "p-value for t <= observed value is  6.03e-10\n",
            "Since p-value is <= alpha, the null hypothesis is rejected.\n"
          ],
          "name": "stdout"
        }
      ]
    },
    {
      "cell_type": "markdown",
      "metadata": {
        "id": "npdOsNM0X5rK"
      },
      "source": [
        "### Try the same with `scipy.stats.ttest_ind` (two-tailed test)\n",
        "#### p-value for one-tailed test should be half of that for a two-tailed test since the $t$ distribution is symmetric."
      ]
    },
    {
      "cell_type": "code",
      "metadata": {
        "id": "mQke7JrZX5rK",
        "outputId": "84ff087e-32eb-455a-d28c-0ddb621af928"
      },
      "source": [
        "from scipy.stats import ttest_ind\n",
        "tstat, pvalue = ttest_ind(x1, x2, equal_var = True)\n",
        "print(\"The observed t-statistic is\", np.round(tstat, decimals = 3))\n",
        "print(\"The corresponding p-value is \", np.format_float_scientific(pvalue, precision=2))\n",
        "\n",
        "\n",
        "if pvalue <= alpha:\n",
        "    print(\"Since p-value is <= alpha, the null hypothesis is rejected.\")\n",
        "else:\n",
        "    print(\"Since p-value is > alpha, the null hypothesis cannot be rejected.\")"
      ],
      "execution_count": null,
      "outputs": [
        {
          "output_type": "stream",
          "text": [
            "The observed t-statistic is 2.31\n",
            "The corresponding p-value is  2.3e-02\n",
            "Since p-value is <= alpha, the null hypothesis is rejected.\n"
          ],
          "name": "stdout"
        }
      ]
    },
    {
      "cell_type": "markdown",
      "metadata": {
        "id": "qRTvYyU-X5rM"
      },
      "source": [
        "## Dependent samples"
      ]
    },
    {
      "cell_type": "markdown",
      "metadata": {
        "id": "nN6PNd-9X5rM"
      },
      "source": [
        "### Generate two dependent samples"
      ]
    },
    {
      "cell_type": "code",
      "metadata": {
        "id": "2rGXU1wMX5rM",
        "outputId": "fd302a53-a0f7-452f-bd9c-d96ff3c2b572"
      },
      "source": [
        "np.random.seed(seed)\n",
        "#x1: source + background with mean 0.5\n",
        "#x2: background-subtracted data\n",
        "x1 = norm.rvs(loc = 3.0, size = 50); x2 = x1 - norm.rvs(loc = 0.5, size = 50)\n",
        "#Demonstrate that x1 and x2 are correlated\n",
        "from scipy.stats import pearsonr\n",
        "r, _ = pearsonr(x1, x2)\n",
        "print(\"The two datasets have a Pearson r correlation coefficient of {}\".format(np.round(r, decimals = 3)))"
      ],
      "execution_count": null,
      "outputs": [
        {
          "output_type": "stream",
          "text": [
            "The two datasets have a Pearson r correlation coefficient of 0.68\n"
          ],
          "name": "stdout"
        }
      ]
    },
    {
      "cell_type": "markdown",
      "metadata": {
        "id": "Z-qevl7FX5rN"
      },
      "source": [
        "### Compute the $t$-statistic for the difference in means\n",
        "#### $t = \\displaystyle{\\overline{x_1}-\\overline{x_2}\\over \\displaystyle{s_y\\over \\sqrt{N}}}$, where $s_y \\equiv \\sqrt{\\displaystyle{1\\over N-1}\\Bigg[\\displaystyle\\sum\\limits_{i=1}^N (x_{1,i}-x_{2,i})^2 - \n",
        "N(\\overline{x_1}-\\overline{x_2})^2\n",
        "%\\displaystyle{\\Big(\\displaystyle\\sum\\limits_{i=1}^N (x_{1,i}-x_{2,i})\\Big)^2\\over N}\n",
        "\\Bigg]}$"
      ]
    },
    {
      "cell_type": "code",
      "metadata": {
        "id": "MR_e4zNuX5rN",
        "outputId": "c4ff4ea2-ad6f-47b1-c3be-1926133cbd07"
      },
      "source": [
        "from scipy.stats import ttest_rel\n",
        "tstat, pvalue = ttest_rel(x1, x2)\n",
        "print(\"The observed t-statistic is\", np.round(tstat, decimals = 3))\n",
        "print(\"The corresponding p-value is \", np.format_float_scientific(pvalue, precision=2))\n",
        "\n",
        "\n",
        "if pvalue <= alpha:\n",
        "    print(\"Since p-value is <= alpha, the null hypothesis is rejected.\")\n",
        "else:\n",
        "    print(\"Since p-value is > alpha, the null hypothesis cannot be rejected.\")"
      ],
      "execution_count": null,
      "outputs": [
        {
          "output_type": "stream",
          "text": [
            "The observed t-statistic is 3.884\n",
            "The corresponding p-value is  3.08e-04\n",
            "Since p-value is <= alpha, the null hypothesis is rejected.\n"
          ],
          "name": "stdout"
        }
      ]
    },
    {
      "cell_type": "code",
      "metadata": {
        "id": "RPgdC15CX5rN"
      },
      "source": [
        ""
      ],
      "execution_count": null,
      "outputs": []
    }
  ]
}