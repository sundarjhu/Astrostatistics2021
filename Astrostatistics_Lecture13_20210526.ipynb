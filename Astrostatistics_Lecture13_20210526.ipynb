{
  "nbformat": 4,
  "nbformat_minor": 0,
  "metadata": {
    "colab": {
      "name": "Astrostatistics_Lecture13_20210526.ipynb",
      "provenance": [],
      "collapsed_sections": [],
      "authorship_tag": "ABX9TyO2s2qYlWVzOpFVFkGxESIS",
      "include_colab_link": true
    },
    "kernelspec": {
      "name": "python3",
      "display_name": "Python 3"
    },
    "language_info": {
      "name": "python"
    }
  },
  "cells": [
    {
      "cell_type": "markdown",
      "metadata": {
        "id": "view-in-github",
        "colab_type": "text"
      },
      "source": [
        "<a href=\"https://colab.research.google.com/github/sundarjhu/Astrostatistics2021/blob/main/Astrostatistics_Lecture13_20210526.ipynb\" target=\"_parent\"><img src=\"https://colab.research.google.com/assets/colab-badge.svg\" alt=\"Open In Colab\"/></a>"
      ]
    },
    {
      "cell_type": "markdown",
      "metadata": {
        "id": "lBAYyoIbfzTj"
      },
      "source": [
        "#Hypothesis testing"
      ]
    },
    {
      "cell_type": "markdown",
      "metadata": {
        "id": "bA-wKOQpfgdW"
      },
      "source": [
        "##1) Problem 8.2.2 from Barlow:\n",
        "###55% of patients suffering from a disease are spontaneously cured within a week. A new medication is tested on 105 patients. How many patients need to be cured in a week to conclude that the medication is effective at 5% significance?\n",
        "---\n",
        "\n",
        "####$H_{_0}: p \\leq 0.55; H_{_A}: p > 0.55$ ({\\bf one-tailed test}).\n",
        "####Statistic: $k$, the total number of people cured within a week.\n",
        ">>> (under the null hypothesis, $k\\sim\\textrm{Binom}(105, 0.55)$)\n",
        "####Significance chosen: $\\alpha = 0.05$.\n",
        "\n",
        "---\n",
        "###We are looking for $k_{_\\alpha}$ such that $P(k\\geq k_{_\\alpha}) < \\alpha$.\n",
        "###\"To reject $H_{_0}$ at 5% significance, more than (???) patients need to be cured within a week.\"\n",
        "\n",
        "\n"
      ]
    },
    {
      "cell_type": "code",
      "metadata": {
        "id": "T9TxuDJIfcWJ"
      },
      "source": [
        "from scipy.stats import binom\n"
      ],
      "execution_count": null,
      "outputs": []
    }
  ]
}