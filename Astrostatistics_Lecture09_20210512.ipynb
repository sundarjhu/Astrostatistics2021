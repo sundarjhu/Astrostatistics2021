{
  "nbformat": 4,
  "nbformat_minor": 0,
  "metadata": {
    "colab": {
      "name": "Astrostatistics_Lecture09_20210512.ipynb",
      "provenance": [],
      "collapsed_sections": [],
      "authorship_tag": "ABX9TyOTvju8hLoU5P6K7ZGEQL70",
      "include_colab_link": true
    },
    "kernelspec": {
      "name": "python3",
      "display_name": "Python 3"
    },
    "language_info": {
      "name": "python"
    }
  },
  "cells": [
    {
      "cell_type": "markdown",
      "metadata": {
        "id": "view-in-github",
        "colab_type": "text"
      },
      "source": [
        "<a href=\"https://colab.research.google.com/github/sundarjhu/Astrostatistics2021/blob/main/Astrostatistics_Lecture09_20210512.ipynb\" target=\"_parent\"><img src=\"https://colab.research.google.com/assets/colab-badge.svg\" alt=\"Open In Colab\"/></a>"
      ]
    },
    {
      "cell_type": "code",
      "metadata": {
        "id": "vuugQ-2VTxfv"
      },
      "source": [
        "import numpy as np\n",
        "from scipy.stats import norm"
      ],
      "execution_count": 1,
      "outputs": []
    },
    {
      "cell_type": "markdown",
      "metadata": {
        "id": "EuEVPbTtUjRl"
      },
      "source": [
        "#Module 1: Use methods from `scipy.stats.norm` to solve the following problems"
      ]
    },
    {
      "cell_type": "markdown",
      "metadata": {
        "id": "z42SeytcT8UC"
      },
      "source": [
        "#1) Central probability: Find $a$ such that $P(|Z|<a) = 0.5$"
      ]
    },
    {
      "cell_type": "code",
      "metadata": {
        "id": "57oXQ3_uT4E5"
      },
      "source": [
        ""
      ],
      "execution_count": null,
      "outputs": []
    },
    {
      "cell_type": "markdown",
      "metadata": {
        "id": "WfGlHzQRULiI"
      },
      "source": [
        "#2) Asymmetric central probability: Find $a$ such that $P(-2a < Z < a) = 0.75$"
      ]
    },
    {
      "cell_type": "code",
      "metadata": {
        "id": "2X3Qn2piURr9"
      },
      "source": [
        ""
      ],
      "execution_count": null,
      "outputs": []
    },
    {
      "cell_type": "markdown",
      "metadata": {
        "id": "gfBCwBKEUSiL"
      },
      "source": [
        "#3) One-tailed extreme: Find $a$ such that $P(Z < -a) = 0.1$\n"
      ]
    },
    {
      "cell_type": "code",
      "metadata": {
        "id": "AxBgozdwUWDW"
      },
      "source": [
        ""
      ],
      "execution_count": null,
      "outputs": []
    },
    {
      "cell_type": "markdown",
      "metadata": {
        "id": "knH9xpQDUW2S"
      },
      "source": [
        "#4) Two-tailed extreme: Find $a$ such that $P(|Z| > a) = 0.995$\n"
      ]
    },
    {
      "cell_type": "code",
      "metadata": {
        "id": "9i01xonGUaq6"
      },
      "source": [
        ""
      ],
      "execution_count": null,
      "outputs": []
    },
    {
      "cell_type": "markdown",
      "metadata": {
        "id": "UCcZEjEOXUoY"
      },
      "source": [
        "#Module 2: Use methods from `scipy.stats.t` to solve the following problems"
      ]
    },
    {
      "cell_type": "markdown",
      "metadata": {
        "id": "Tn7ceC4eXaZh"
      },
      "source": [
        "#1) Central probability: Find $a$ such that $P(|T_{_{\\nu = 4}}| < a) = 0.5$"
      ]
    },
    {
      "cell_type": "code",
      "metadata": {
        "id": "-ESxt4eOXYxT"
      },
      "source": [
        ""
      ],
      "execution_count": null,
      "outputs": []
    },
    {
      "cell_type": "markdown",
      "metadata": {
        "id": "89iZOm_-XsHy"
      },
      "source": [
        "#2) Asymmetric central probability: Find $a$ such that $P(-2a<T_{_{\\nu = 4}} < a) = 0.75$"
      ]
    },
    {
      "cell_type": "code",
      "metadata": {
        "id": "g29WL_FmXzBl"
      },
      "source": [
        ""
      ],
      "execution_count": null,
      "outputs": []
    },
    {
      "cell_type": "markdown",
      "metadata": {
        "id": "M3xNlLIfX2MA"
      },
      "source": [
        "#3) One-tailed extreme: Find $a$ such that $P(T_{_{\\nu = 4}} < -a) = 0.1$"
      ]
    },
    {
      "cell_type": "code",
      "metadata": {
        "id": "MbFu33f6X8Sv"
      },
      "source": [
        ""
      ],
      "execution_count": null,
      "outputs": []
    },
    {
      "cell_type": "markdown",
      "metadata": {
        "id": "gnV8JTvSX-GU"
      },
      "source": [
        "#4) Two-tailed extreme: Find $a$ such that $P(|T_{_{\\nu = 4}}| > a) = 0.995$"
      ]
    },
    {
      "cell_type": "code",
      "metadata": {
        "id": "CPl4UWbZYBhu"
      },
      "source": [
        ""
      ],
      "execution_count": null,
      "outputs": []
    }
  ]
}