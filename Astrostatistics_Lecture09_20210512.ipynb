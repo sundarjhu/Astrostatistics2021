{
  "nbformat": 4,
  "nbformat_minor": 0,
  "metadata": {
    "colab": {
      "name": "Astrostatistics_Lecture09_20210512.ipynb",
      "provenance": [],
      "collapsed_sections": [],
      "authorship_tag": "ABX9TyNhKBPyJKAQibDQOenhHnMF",
      "include_colab_link": true
    },
    "kernelspec": {
      "name": "python3",
      "display_name": "Python 3"
    },
    "language_info": {
      "name": "python"
    }
  },
  "cells": [
    {
      "cell_type": "markdown",
      "metadata": {
        "id": "view-in-github",
        "colab_type": "text"
      },
      "source": [
        "<a href=\"https://colab.research.google.com/github/sundarjhu/Astrostatistics2021/blob/main/Astrostatistics_Lecture09_20210512.ipynb\" target=\"_parent\"><img src=\"https://colab.research.google.com/assets/colab-badge.svg\" alt=\"Open In Colab\"/></a>"
      ]
    },
    {
      "cell_type": "code",
      "metadata": {
        "id": "vuugQ-2VTxfv"
      },
      "source": [
        "import numpy as np\n",
        "from scipy.stats import norm, t"
      ],
      "execution_count": null,
      "outputs": []
    },
    {
      "cell_type": "markdown",
      "metadata": {
        "id": "EuEVPbTtUjRl"
      },
      "source": [
        "#**Module 1: Use methods from `scipy.stats.norm` to solve the following problems**"
      ]
    },
    {
      "cell_type": "markdown",
      "metadata": {
        "id": "z42SeytcT8UC"
      },
      "source": [
        "#1) Central probability: Find $a$ such that $P(|Z|<a) = 0.5$"
      ]
    },
    {
      "cell_type": "code",
      "metadata": {
        "id": "57oXQ3_uT4E5"
      },
      "source": [
        ""
      ],
      "execution_count": null,
      "outputs": []
    },
    {
      "cell_type": "markdown",
      "metadata": {
        "id": "WfGlHzQRULiI"
      },
      "source": [
        "#2) Asymmetric central probability: Find $a$ such that $P(-2a < Z < a) = 0.75$"
      ]
    },
    {
      "cell_type": "code",
      "metadata": {
        "id": "2X3Qn2piURr9"
      },
      "source": [
        ""
      ],
      "execution_count": null,
      "outputs": []
    },
    {
      "cell_type": "markdown",
      "metadata": {
        "id": "gfBCwBKEUSiL"
      },
      "source": [
        "#3) One-tailed extreme: Find $a$ such that $P(Z < -a) = 0.1$\n"
      ]
    },
    {
      "cell_type": "code",
      "metadata": {
        "id": "AxBgozdwUWDW"
      },
      "source": [
        ""
      ],
      "execution_count": null,
      "outputs": []
    },
    {
      "cell_type": "markdown",
      "metadata": {
        "id": "knH9xpQDUW2S"
      },
      "source": [
        "#4) Two-tailed extreme: Find $a$ such that $P(|Z| > a) = 0.995$\n"
      ]
    },
    {
      "cell_type": "code",
      "metadata": {
        "id": "9i01xonGUaq6"
      },
      "source": [
        ""
      ],
      "execution_count": null,
      "outputs": []
    },
    {
      "cell_type": "markdown",
      "metadata": {
        "id": "UCcZEjEOXUoY"
      },
      "source": [
        "#**Module 2: Use methods from `scipy.stats.t` to solve the following problems**"
      ]
    },
    {
      "cell_type": "markdown",
      "metadata": {
        "id": "Tn7ceC4eXaZh"
      },
      "source": [
        "#1) Central probability: Find $a$ such that $P(|T_{_{\\nu = 4}}| < a) = 0.5$"
      ]
    },
    {
      "cell_type": "code",
      "metadata": {
        "id": "-ESxt4eOXYxT"
      },
      "source": [
        ""
      ],
      "execution_count": null,
      "outputs": []
    },
    {
      "cell_type": "markdown",
      "metadata": {
        "id": "M3xNlLIfX2MA"
      },
      "source": [
        "##2) One-tailed extreme: Find $a$ such that $P(T_{_{\\nu = 4}} < -a) = 0.1$"
      ]
    },
    {
      "cell_type": "code",
      "metadata": {
        "id": "MbFu33f6X8Sv"
      },
      "source": [
        ""
      ],
      "execution_count": null,
      "outputs": []
    },
    {
      "cell_type": "markdown",
      "metadata": {
        "id": "gnV8JTvSX-GU"
      },
      "source": [
        "#3) Two-tailed extreme: Find $a$ such that $P(|T_{_{\\nu = 4}}| > a) = 0.995$"
      ]
    },
    {
      "cell_type": "code",
      "metadata": {
        "id": "CPl4UWbZYBhu"
      },
      "source": [
        ""
      ],
      "execution_count": null,
      "outputs": []
    },
    {
      "cell_type": "markdown",
      "metadata": {
        "id": "0-GtGWcOONen"
      },
      "source": [
        "#**Module 3: Use methods from `scipy.stats.norm` and `scipy.stats.t` to solve the following problems**"
      ]
    },
    {
      "cell_type": "markdown",
      "metadata": {
        "id": "ZmGSNwHeOTgf"
      },
      "source": [
        "#**Case 1: Normally-distributed variable with known variance**\n",
        "\n",
        "#A single measurement of the mass of a rock results in a value of 0.2 kg.\n",
        "#The 1$\\sigma$ measurement uncertainty due to the resolution of the mass-measuring device is 0.05 kg."
      ]
    },
    {
      "cell_type": "markdown",
      "metadata": {
        "id": "CryqoQVYS0eV"
      },
      "source": [
        "\n",
        "##1) Construct an 82\\% confidence interval on the true mass of the rock."
      ]
    },
    {
      "cell_type": "code",
      "metadata": {
        "id": "R0YdWhG5OSeL"
      },
      "source": [
        ""
      ],
      "execution_count": null,
      "outputs": []
    },
    {
      "cell_type": "markdown",
      "metadata": {
        "id": "IR0i-KHPPA69"
      },
      "source": [
        "##2) What confidence is associated with the interval [0.00545, 0.3946] kg? What is the associated significance?"
      ]
    },
    {
      "cell_type": "code",
      "metadata": {
        "id": "97MECKagP85E"
      },
      "source": [
        ""
      ],
      "execution_count": null,
      "outputs": []
    },
    {
      "cell_type": "markdown",
      "metadata": {
        "id": "dyLYKHQgO4uh"
      },
      "source": [
        "#**Case 2: Normally-distributed variable with unknown variance**\n",
        "\n",
        "#Three measurements of the rock's mass result in values of 0.2, 0.35, and 0.25 kg. The (constant, homoskedastic) measurement uncertainty is unknown."
      ]
    },
    {
      "cell_type": "code",
      "metadata": {
        "id": "E4M4NdHKT4kK"
      },
      "source": [
        "m = np.array([0.2, 0.35, 0.25])"
      ],
      "execution_count": null,
      "outputs": []
    },
    {
      "cell_type": "markdown",
      "metadata": {
        "id": "nORytQ12TLpD"
      },
      "source": [
        "##1) Estimate the population mean and standard deviation of the rock's mass.\n",
        "##Make sure the standard deviation estimate is unbiased!!"
      ]
    },
    {
      "cell_type": "code",
      "metadata": {
        "id": "nvUI8H7ZO4Fc"
      },
      "source": [
        ""
      ],
      "execution_count": null,
      "outputs": []
    },
    {
      "cell_type": "markdown",
      "metadata": {
        "id": "yixv_DJ4TH_r"
      },
      "source": [
        "##2) Compute the 95\\% confidence interval on the rock's true mass."
      ]
    },
    {
      "cell_type": "code",
      "metadata": {
        "id": "qHPFuAUETKju"
      },
      "source": [
        ""
      ],
      "execution_count": null,
      "outputs": []
    },
    {
      "cell_type": "markdown",
      "metadata": {
        "id": "GQMQTmrnPyaJ"
      },
      "source": [
        "##3) What confidence is associated with the interval [-0.0484, 0.5824] kg?"
      ]
    },
    {
      "cell_type": "code",
      "metadata": {
        "id": "0GPaYNMkP2-b"
      },
      "source": [
        ""
      ],
      "execution_count": null,
      "outputs": []
    }
  ]
}