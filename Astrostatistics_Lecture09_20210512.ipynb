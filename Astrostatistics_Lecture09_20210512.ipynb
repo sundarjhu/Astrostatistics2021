{
  "nbformat": 4,
  "nbformat_minor": 0,
  "metadata": {
    "colab": {
      "name": "Astrostatistics_Lecture09_20210512.ipynb",
      "provenance": [],
      "collapsed_sections": [],
      "authorship_tag": "ABX9TyN58KLSvF8Q32aO/AVjpruI",
      "include_colab_link": true
    },
    "kernelspec": {
      "name": "python3",
      "display_name": "Python 3"
    },
    "language_info": {
      "name": "python"
    }
  },
  "cells": [
    {
      "cell_type": "markdown",
      "metadata": {
        "id": "view-in-github",
        "colab_type": "text"
      },
      "source": [
        "<a href=\"https://colab.research.google.com/github/sundarjhu/Astrostatistics2021/blob/main/Astrostatistics_Lecture09_20210512.ipynb\" target=\"_parent\"><img src=\"https://colab.research.google.com/assets/colab-badge.svg\" alt=\"Open In Colab\"/></a>"
      ]
    },
    {
      "cell_type": "code",
      "metadata": {
        "id": "vuugQ-2VTxfv"
      },
      "source": [
        "import numpy as np\n",
        "from scipy.stats import norm, t"
      ],
      "execution_count": 4,
      "outputs": []
    },
    {
      "cell_type": "markdown",
      "metadata": {
        "id": "EuEVPbTtUjRl"
      },
      "source": [
        "#**Module 1: Use methods from `scipy.stats.norm` to solve the following problems**"
      ]
    },
    {
      "cell_type": "markdown",
      "metadata": {
        "id": "z42SeytcT8UC"
      },
      "source": [
        "#1) Central probability: Find $a$ such that $P(|Z|<a) = 0.5$"
      ]
    },
    {
      "cell_type": "code",
      "metadata": {
        "id": "57oXQ3_uT4E5",
        "outputId": "1b80147f-9dd7-4cbf-f430-020a4c606b2e",
        "colab": {
          "base_uri": "https://localhost:8080/"
        }
      },
      "source": [
        "#P(|Z|<a) = 0.5 ==> P(Z<-a) = CDF(-a)= (1-0.5)/2\n",
        "a = -norm.ppf((1-0.5)/2)\n",
        "print(\"a = {}\".format(np.round(a, decimals = 4)))"
      ],
      "execution_count": 7,
      "outputs": [
        {
          "output_type": "stream",
          "text": [
            "a = 0.6745\n"
          ],
          "name": "stdout"
        }
      ]
    },
    {
      "cell_type": "markdown",
      "metadata": {
        "id": "WfGlHzQRULiI"
      },
      "source": [
        "#2) Asymmetric central probability: Find $a$ such that $P(-2a < Z < a) = 0.75$"
      ]
    },
    {
      "cell_type": "code",
      "metadata": {
        "id": "2X3Qn2piURr9",
        "outputId": "82bf9bd1-e8c7-47fe-eca5-6dec81996494",
        "colab": {
          "base_uri": "https://localhost:8080/"
        }
      },
      "source": [
        "#P(-2a < Z < a) = 1/2 * (erf(a/sqrt(2)) + erf(sqrt(2)*a))\n",
        "#Find root of equation P(-2a < Z < a) - 0.75 == 0\n",
        "from scipy.optimize import root_scalar\n",
        "from scipy.special import erf\n",
        "\n",
        "def func(x):\n",
        "  #Function to be minimised\n",
        "  return 0.5 * (erf(x / np.sqrt(2)) + erf(np.sqrt(2) * x)) - 0.75\n",
        "\n",
        "#Set up root-finding algorithm with an initial bracket for $a$\n",
        "soln = root_scalar(func, bracket = [-2, 2], method = 'bisect')\n",
        "print(\"a = {}\".format(np.round(soln.root, decimals = 4)))"
      ],
      "execution_count": 13,
      "outputs": [
        {
          "output_type": "stream",
          "text": [
            "a = 0.8336\n"
          ],
          "name": "stdout"
        }
      ]
    },
    {
      "cell_type": "markdown",
      "metadata": {
        "id": "gfBCwBKEUSiL"
      },
      "source": [
        "#3) One-tailed extreme: Find $a$ such that $P(Z < -a) = 0.1$\n"
      ]
    },
    {
      "cell_type": "code",
      "metadata": {
        "id": "AxBgozdwUWDW",
        "outputId": "c13f617e-a544-446c-8f5a-be574ad9265e",
        "colab": {
          "base_uri": "https://localhost:8080/"
        }
      },
      "source": [
        "a = -norm.ppf(0.1)\n",
        "print(\"a = {}\".format(np.round(a, decimals = 4)))"
      ],
      "execution_count": 15,
      "outputs": [
        {
          "output_type": "stream",
          "text": [
            "a = 1.2816\n"
          ],
          "name": "stdout"
        }
      ]
    },
    {
      "cell_type": "markdown",
      "metadata": {
        "id": "knH9xpQDUW2S"
      },
      "source": [
        "#4) Two-tailed extreme: Find $a$ such that $P(|Z| > a) = 0.995$\n"
      ]
    },
    {
      "cell_type": "code",
      "metadata": {
        "id": "9i01xonGUaq6",
        "outputId": "0bfbfd5c-da4d-40a7-84c2-38cba8e30950",
        "colab": {
          "base_uri": "https://localhost:8080/"
        }
      },
      "source": [
        "a = -norm.ppf(0.995/2)\n",
        "print(\"a = {}\".format(np.round(a, decimals = 4)))"
      ],
      "execution_count": 16,
      "outputs": [
        {
          "output_type": "stream",
          "text": [
            "a = 0.0063\n"
          ],
          "name": "stdout"
        }
      ]
    },
    {
      "cell_type": "markdown",
      "metadata": {
        "id": "UCcZEjEOXUoY"
      },
      "source": [
        "#**Module 2: Use methods from `scipy.stats.t` to solve the following problems**"
      ]
    },
    {
      "cell_type": "markdown",
      "metadata": {
        "id": "Tn7ceC4eXaZh"
      },
      "source": [
        "#1) Central probability: Find $a$ such that $P(|T_{_{\\nu = 4}}| < a) = 0.5$"
      ]
    },
    {
      "cell_type": "code",
      "metadata": {
        "id": "-ESxt4eOXYxT",
        "outputId": "0622af61-4722-4c09-88e5-b9a3c4e41434",
        "colab": {
          "base_uri": "https://localhost:8080/"
        }
      },
      "source": [
        "a = -t.ppf((1-0.5)/2, df = 4)\n",
        "print(\"a = {}\".format(np.round(a, decimals = 4)))"
      ],
      "execution_count": 17,
      "outputs": [
        {
          "output_type": "stream",
          "text": [
            "a = 0.7407\n"
          ],
          "name": "stdout"
        }
      ]
    },
    {
      "cell_type": "markdown",
      "metadata": {
        "id": "M3xNlLIfX2MA"
      },
      "source": [
        "##2) One-tailed extreme: Find $a$ such that $P(T_{_{\\nu = 4}} < -a) = 0.1$"
      ]
    },
    {
      "cell_type": "code",
      "metadata": {
        "id": "MbFu33f6X8Sv",
        "outputId": "d65a3c95-7240-4dde-f7fd-d0de26d7960c",
        "colab": {
          "base_uri": "https://localhost:8080/"
        }
      },
      "source": [
        "a = -t.ppf(0.1, df = 4)\n",
        "print(\"a = {}\".format(np.round(a, decimals = 4)))"
      ],
      "execution_count": 18,
      "outputs": [
        {
          "output_type": "stream",
          "text": [
            "a = 1.5332\n"
          ],
          "name": "stdout"
        }
      ]
    },
    {
      "cell_type": "markdown",
      "metadata": {
        "id": "gnV8JTvSX-GU"
      },
      "source": [
        "#3) Two-tailed extreme: Find $a$ such that $P(|T_{_{\\nu = 4}}| > a) = 0.995$"
      ]
    },
    {
      "cell_type": "code",
      "metadata": {
        "id": "CPl4UWbZYBhu",
        "outputId": "3a2df761-27cf-4786-dffe-9e3fb4ece7cf",
        "colab": {
          "base_uri": "https://localhost:8080/"
        }
      },
      "source": [
        "a = -t.ppf(0.995/2, df = 4)\n",
        "print(\"a = {}\".format(np.round(a, decimals = 4)))"
      ],
      "execution_count": 19,
      "outputs": [
        {
          "output_type": "stream",
          "text": [
            "a = 0.0067\n"
          ],
          "name": "stdout"
        }
      ]
    },
    {
      "cell_type": "markdown",
      "metadata": {
        "id": "0-GtGWcOONen"
      },
      "source": [
        "#**Module 3: Use methods from `scipy.stats.norm` and `scipy.stats.t` to solve the following problems**"
      ]
    },
    {
      "cell_type": "markdown",
      "metadata": {
        "id": "ZmGSNwHeOTgf"
      },
      "source": [
        "#**Case 1: Normally-distributed variable with known variance**\n",
        "\n",
        "#A single measurement of the mass of a rock results in a value of 0.2 kg.\n",
        "#The 1$\\sigma$ measurement uncertainty due to the resolution of the mass-measuring device is 0.05 kg."
      ]
    },
    {
      "cell_type": "markdown",
      "metadata": {
        "id": "CryqoQVYS0eV"
      },
      "source": [
        "\n",
        "##1) Construct an 82\\% confidence interval on the true mass of the rock."
      ]
    },
    {
      "cell_type": "code",
      "metadata": {
        "id": "R0YdWhG5OSeL"
      },
      "source": [
        ""
      ],
      "execution_count": null,
      "outputs": []
    },
    {
      "cell_type": "markdown",
      "metadata": {
        "id": "IR0i-KHPPA69"
      },
      "source": [
        "##2) What confidence is associated with the interval [0.00545, 0.3946] kg? What is the associated significance?"
      ]
    },
    {
      "cell_type": "code",
      "metadata": {
        "id": "97MECKagP85E"
      },
      "source": [
        ""
      ],
      "execution_count": null,
      "outputs": []
    },
    {
      "cell_type": "markdown",
      "metadata": {
        "id": "dyLYKHQgO4uh"
      },
      "source": [
        "#**Case 2: Normally-distributed variable with unknown variance**\n",
        "\n",
        "#Three measurements of the rock's mass result in values of 0.2, 0.35, and 0.25 kg. The (constant, homoskedastic) measurement uncertainty is unknown."
      ]
    },
    {
      "cell_type": "code",
      "metadata": {
        "id": "E4M4NdHKT4kK"
      },
      "source": [
        "m = np.array([0.2, 0.35, 0.25])"
      ],
      "execution_count": null,
      "outputs": []
    },
    {
      "cell_type": "markdown",
      "metadata": {
        "id": "nORytQ12TLpD"
      },
      "source": [
        "##1) Estimate the population mean and standard deviation of the rock's mass.\n",
        "##Make sure the standard deviation estimate is unbiased!!"
      ]
    },
    {
      "cell_type": "code",
      "metadata": {
        "id": "nvUI8H7ZO4Fc"
      },
      "source": [
        ""
      ],
      "execution_count": null,
      "outputs": []
    },
    {
      "cell_type": "markdown",
      "metadata": {
        "id": "yixv_DJ4TH_r"
      },
      "source": [
        "##2) Compute the 95\\% confidence interval on the rock's true mass."
      ]
    },
    {
      "cell_type": "code",
      "metadata": {
        "id": "qHPFuAUETKju"
      },
      "source": [
        ""
      ],
      "execution_count": null,
      "outputs": []
    },
    {
      "cell_type": "markdown",
      "metadata": {
        "id": "GQMQTmrnPyaJ"
      },
      "source": [
        "##3) What confidence is associated with the interval [-0.0484, 0.5824] kg?"
      ]
    },
    {
      "cell_type": "code",
      "metadata": {
        "id": "0GPaYNMkP2-b"
      },
      "source": [
        ""
      ],
      "execution_count": null,
      "outputs": []
    }
  ]
}