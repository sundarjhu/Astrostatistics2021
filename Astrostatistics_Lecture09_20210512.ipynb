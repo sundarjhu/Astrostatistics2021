{
  "nbformat": 4,
  "nbformat_minor": 0,
  "metadata": {
    "colab": {
      "name": "Astrostatistics_Lecture09_20210512.ipynb",
      "provenance": [],
      "collapsed_sections": [],
      "authorship_tag": "ABX9TyPJbzMZxqwmz5IOJHEXiLyF",
      "include_colab_link": true
    },
    "kernelspec": {
      "name": "python3",
      "display_name": "Python 3"
    },
    "language_info": {
      "name": "python"
    }
  },
  "cells": [
    {
      "cell_type": "markdown",
      "metadata": {
        "id": "view-in-github",
        "colab_type": "text"
      },
      "source": [
        "<a href=\"https://colab.research.google.com/github/sundarjhu/Astrostatistics2021/blob/main/Astrostatistics_Lecture09_20210512.ipynb\" target=\"_parent\"><img src=\"https://colab.research.google.com/assets/colab-badge.svg\" alt=\"Open In Colab\"/></a>"
      ]
    },
    {
      "cell_type": "code",
      "metadata": {
        "id": "vuugQ-2VTxfv"
      },
      "source": [
        "import numpy as np\n",
        "from scipy.stats import norm, t"
      ],
      "execution_count": 2,
      "outputs": []
    },
    {
      "cell_type": "markdown",
      "metadata": {
        "id": "EuEVPbTtUjRl"
      },
      "source": [
        "#**Module 1: Use methods from `scipy.stats.norm` to solve the following problems**"
      ]
    },
    {
      "cell_type": "markdown",
      "metadata": {
        "id": "z42SeytcT8UC"
      },
      "source": [
        "#1) Central probability: Find $a$ such that $P(|Z|<a) = 0.5$"
      ]
    },
    {
      "cell_type": "code",
      "metadata": {
        "id": "57oXQ3_uT4E5"
      },
      "source": [
        ""
      ],
      "execution_count": 2,
      "outputs": []
    },
    {
      "cell_type": "markdown",
      "metadata": {
        "id": "WfGlHzQRULiI"
      },
      "source": [
        "#2) Asymmetric central probability: Find $a$ such that $P(-2a < Z < a) = 0.75$"
      ]
    },
    {
      "cell_type": "code",
      "metadata": {
        "id": "2X3Qn2piURr9"
      },
      "source": [
        ""
      ],
      "execution_count": 2,
      "outputs": []
    },
    {
      "cell_type": "markdown",
      "metadata": {
        "id": "gfBCwBKEUSiL"
      },
      "source": [
        "#3) One-tailed extreme: Find $a$ such that $P(Z < -a) = 0.1$\n"
      ]
    },
    {
      "cell_type": "code",
      "metadata": {
        "id": "AxBgozdwUWDW"
      },
      "source": [
        ""
      ],
      "execution_count": 2,
      "outputs": []
    },
    {
      "cell_type": "markdown",
      "metadata": {
        "id": "knH9xpQDUW2S"
      },
      "source": [
        "#4) Two-tailed extreme: Find $a$ such that $P(|Z| > a) = 0.995$\n"
      ]
    },
    {
      "cell_type": "code",
      "metadata": {
        "id": "9i01xonGUaq6"
      },
      "source": [
        ""
      ],
      "execution_count": 2,
      "outputs": []
    },
    {
      "cell_type": "markdown",
      "metadata": {
        "id": "UCcZEjEOXUoY"
      },
      "source": [
        "#**Module 2: Use methods from `scipy.stats.t` to solve the following problems**"
      ]
    },
    {
      "cell_type": "markdown",
      "metadata": {
        "id": "Tn7ceC4eXaZh"
      },
      "source": [
        "#1) Central probability: Find $a$ such that $P(|T_{_{\\nu = 4}}| < a) = 0.5$"
      ]
    },
    {
      "cell_type": "code",
      "metadata": {
        "id": "-ESxt4eOXYxT"
      },
      "source": [
        ""
      ],
      "execution_count": 2,
      "outputs": []
    },
    {
      "cell_type": "markdown",
      "metadata": {
        "id": "M3xNlLIfX2MA"
      },
      "source": [
        "##2) One-tailed extreme: Find $a$ such that $P(T_{_{\\nu = 4}} < -a) = 0.1$"
      ]
    },
    {
      "cell_type": "code",
      "metadata": {
        "id": "MbFu33f6X8Sv"
      },
      "source": [
        ""
      ],
      "execution_count": 2,
      "outputs": []
    },
    {
      "cell_type": "markdown",
      "metadata": {
        "id": "gnV8JTvSX-GU"
      },
      "source": [
        "#3) Two-tailed extreme: Find $a$ such that $P(|T_{_{\\nu = 4}}| > a) = 0.995$"
      ]
    },
    {
      "cell_type": "code",
      "metadata": {
        "id": "CPl4UWbZYBhu"
      },
      "source": [
        ""
      ],
      "execution_count": 2,
      "outputs": []
    },
    {
      "cell_type": "markdown",
      "metadata": {
        "id": "0-GtGWcOONen"
      },
      "source": [
        "#**Module 3: Use methods from `scipy.stats.norm` and `scipy.stats.t` to solve the following problems**"
      ]
    },
    {
      "cell_type": "markdown",
      "metadata": {
        "id": "ZmGSNwHeOTgf"
      },
      "source": [
        "#**Case 1: Normally-distributed variable with known variance**\n",
        "\n",
        "#A single measurement of the mass of a rock results in a value of 0.2 kg.\n",
        "#The 1$\\sigma$ measurement uncertainty due to the resolution of the mass-measuring device is 0.05 kg."
      ]
    },
    {
      "cell_type": "markdown",
      "metadata": {
        "id": "CryqoQVYS0eV"
      },
      "source": [
        "\n",
        "##1) Construct an 82\\% confidence interval on the true mass of the rock."
      ]
    },
    {
      "cell_type": "code",
      "metadata": {
        "id": "R0YdWhG5OSeL",
        "outputId": "3a5a633a-591d-45ed-e225-be799156212a",
        "colab": {
          "base_uri": "https://localhost:8080/"
        }
      },
      "source": [
        "from astropy import units as u\n",
        "m = 0.2 * u.kg\n",
        "sig_m = 0.05 * u.kg\n",
        "#P(|Z| < a) = 0.82 ==> P(Z < -a) = (1 - 0.82) / 2\n",
        "nsig = -norm.ppf((1 - 0.82) / 2) #This is the distance from the mean value in number of standard deviations\n",
        "dm = sig_m * nsig #This is the distance from the mean value in physical units (mass)\n",
        "CI = np.array([np.round((m - dm).value, decimals = 3), np.round((m + dm).value, decimals = 3)]) * u.kg\n",
        "print(\"The 82% confidence interval is {}\".format(CI))"
      ],
      "execution_count": 3,
      "outputs": [
        {
          "output_type": "stream",
          "text": [
            "The 82% confidence interval is [0.133 0.267] kg\n"
          ],
          "name": "stdout"
        }
      ]
    },
    {
      "cell_type": "markdown",
      "metadata": {
        "id": "IR0i-KHPPA69"
      },
      "source": [
        "##2) What confidence is associated with the interval [0.00545, 0.3946] kg? What is the associated significance?"
      ]
    },
    {
      "cell_type": "code",
      "metadata": {
        "id": "97MECKagP85E",
        "outputId": "366f45e4-ec32-49e6-a6db-f09cdfd5a84d",
        "colab": {
          "base_uri": "https://localhost:8080/"
        }
      },
      "source": [
        "CI = np.array([0.00545, 0.3946])\n",
        "#standardise this interval -- subtract the mean, divide by the standard deviation\n",
        "#CI_standard = (CI - np.array([m, m])) / np.array([sig_m, sig_m])\n",
        "Z_CI = (CI - m.value) / sig_m.value\n",
        "print(\"Standardised CI: {}\".format(Z_CI))"
      ],
      "execution_count": 4,
      "outputs": [
        {
          "output_type": "stream",
          "text": [
            "Standardised CI: [-3.891  3.892]\n"
          ],
          "name": "stdout"
        }
      ]
    },
    {
      "cell_type": "code",
      "metadata": {
        "id": "PqTPk5VGJua3",
        "outputId": "c0a485fe-a43b-450b-817d-76369c8315e1",
        "colab": {
          "base_uri": "https://localhost:8080/"
        }
      },
      "source": [
        "#The above is a symmetric 3.89-sigma CI!\n",
        "#The associated confidence is the total probability enclosed by this interval\n",
        "confidence = norm.cdf(Z_CI[1]) - norm.cdf(Z_CI[0])\n",
        "print(\"The confidence associated with the given CI is {} (significance: {})\".\\\n",
        "      format(np.round(confidence, decimals = 6), np.format_float_scientific(1 - confidence, precision = 2)))"
      ],
      "execution_count": 5,
      "outputs": [
        {
          "output_type": "stream",
          "text": [
            "The confidence associated with the given CI is 0.9999 (significance: 9.96e-05)\n"
          ],
          "name": "stdout"
        }
      ]
    },
    {
      "cell_type": "markdown",
      "metadata": {
        "id": "dyLYKHQgO4uh"
      },
      "source": [
        "#**Case 2: Normally-distributed variable with unknown variance**\n",
        "\n",
        "#Three measurements of the rock's mass result in values of 0.2, 0.35, and 0.25 kg. The (constant, homoskedastic) measurement uncertainty is unknown."
      ]
    },
    {
      "cell_type": "code",
      "metadata": {
        "id": "E4M4NdHKT4kK"
      },
      "source": [
        "m = np.array([0.2, 0.35, 0.25]) * u.kg"
      ],
      "execution_count": 6,
      "outputs": []
    },
    {
      "cell_type": "markdown",
      "metadata": {
        "id": "nORytQ12TLpD"
      },
      "source": [
        "##1) Estimate the population mean and standard deviation of the rock's mass.\n",
        "##Make sure the standard deviation estimate is unbiased!!"
      ]
    },
    {
      "cell_type": "code",
      "metadata": {
        "id": "nvUI8H7ZO4Fc",
        "outputId": "d44683b3-bdba-4854-f05d-af82fd52ea36",
        "colab": {
          "base_uri": "https://localhost:8080/"
        }
      },
      "source": [
        "mu_hat = m.mean()\n",
        "sig_hat = m.std(ddof = 1)\n",
        "print(\"Estimates for the mean and standard deviation are {} and {} respectively.\".format(np.round(mu_hat, decimals = 4), np.round(sig_hat, decimals = 4)))"
      ],
      "execution_count": 7,
      "outputs": [
        {
          "output_type": "stream",
          "text": [
            "Estimates for the mean and standard deviation are 0.2667 kg and 0.0764 kg respectively.\n"
          ],
          "name": "stdout"
        }
      ]
    },
    {
      "cell_type": "markdown",
      "metadata": {
        "id": "yixv_DJ4TH_r"
      },
      "source": [
        "##2) Compute the 95\\% confidence interval on the rock's true mass."
      ]
    },
    {
      "cell_type": "code",
      "metadata": {
        "id": "qHPFuAUETKju",
        "outputId": "16f3d364-30f6-404b-83f2-9408c9c49b9a",
        "colab": {
          "base_uri": "https://localhost:8080/"
        }
      },
      "source": [
        "#Since the sample mean was calculated in order to compute the sample standard deviation, #dof = N - 1\n",
        "dof = len(m) - 1\n",
        "#P(|T| < a) = 0.95 ==> P(T < -a) = (1 - 0.95) / 2\n",
        "nsig = -t.ppf((1 - 0.995) / 2, df = dof) #This is the distance from the mean value in number of standard deviations\n",
        "dm = sig_hat * nsig #This is the distance from the mean value in physical units (mass)\n",
        "CI = np.array([np.round((mu_hat - dm).value, decimals = 4), np.round((mu_hat + dm).value, decimals = 4)]) * u.kg\n",
        "print(\"The 95% confidence interval is {}\".format(CI))"
      ],
      "execution_count": 8,
      "outputs": [
        {
          "output_type": "stream",
          "text": [
            "The 95% confidence interval is [-0.8094  1.3427] kg\n"
          ],
          "name": "stdout"
        }
      ]
    },
    {
      "cell_type": "markdown",
      "metadata": {
        "id": "GQMQTmrnPyaJ"
      },
      "source": [
        "##3) What confidence is associated with the interval [-0.0484, 0.5824] kg?"
      ]
    },
    {
      "cell_type": "code",
      "metadata": {
        "id": "0GPaYNMkP2-b",
        "outputId": "cd87dfe4-2243-42a7-f139-f04753209f5d",
        "colab": {
          "base_uri": "https://localhost:8080/"
        }
      },
      "source": [
        "CI = np.array([-0.0484, 0.5824])\n",
        "#studentise this interval -- subtract the sample mean, divide by the sample standard deviation\n",
        "#CI_standard = (CI - np.array([m, m])) / np.array([sig_m, sig_m])\n",
        "T_CI = (CI - mu_hat.value) / sig_hat.value\n",
        "print(\"Studentised CI: {}\".format(T_CI))"
      ],
      "execution_count": 11,
      "outputs": [
        {
          "output_type": "stream",
          "text": [
            "Studentised CI: [-4.125191    4.13391971]\n"
          ],
          "name": "stdout"
        }
      ]
    },
    {
      "cell_type": "code",
      "metadata": {
        "id": "n_By_Za-M2i1",
        "outputId": "2d82d28f-18ca-4248-eea2-b15d2b4d5b3e",
        "colab": {
          "base_uri": "https://localhost:8080/"
        }
      },
      "source": [
        "#The above is a symmetric 4.13-sigma CI!\n",
        "#The associated confidence is the total probability enclosed by this interval\n",
        "confidence = t.cdf(T_CI[1], df = dof) - t.cdf(T_CI[0], df = dof)\n",
        "print(\"The confidence associated with the given CI is {} (significance: {})\".\\\n",
        "      format(np.round(confidence, decimals = 6), np.format_float_scientific(1 - confidence, precision = 2)))"
      ],
      "execution_count": 12,
      "outputs": [
        {
          "output_type": "stream",
          "text": [
            "The confidence associated with the given CI is 0.946061 (significance: 5.39e-02)\n"
          ],
          "name": "stdout"
        }
      ]
    },
    {
      "cell_type": "code",
      "metadata": {
        "id": "G_C7DB3kk2yG"
      },
      "source": [
        ""
      ],
      "execution_count": null,
      "outputs": []
    }
  ]
}