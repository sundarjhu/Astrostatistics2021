{
  "nbformat": 4,
  "nbformat_minor": 0,
  "metadata": {
    "colab": {
      "name": "Astrostatistics_Lecture03_20210310.ipynb",
      "provenance": [],
      "collapsed_sections": [],
      "authorship_tag": "ABX9TyPk8JEI0XJgPVuM9LwkiKC1",
      "include_colab_link": true
    },
    "kernelspec": {
      "name": "python3",
      "display_name": "Python 3"
    }
  },
  "cells": [
    {
      "cell_type": "markdown",
      "metadata": {
        "id": "view-in-github",
        "colab_type": "text"
      },
      "source": [
        "<a href=\"https://colab.research.google.com/github/sundarjhu/Astrostatistics2021/blob/main/Astrostatistics_Lecture03_20210310.ipynb\" target=\"_parent\"><img src=\"https://colab.research.google.com/assets/colab-badge.svg\" alt=\"Open In Colab\"/></a>"
      ]
    },
    {
      "cell_type": "markdown",
      "metadata": {
        "id": "3ut_shLRqOE5"
      },
      "source": [
        "##Trying out some methods for various probability distributions\n",
        "\n"
      ]
    },
    {
      "cell_type": "markdown",
      "metadata": {
        "id": "Z6uc0varqc7w"
      },
      "source": [
        "###Bernoulli distribution\n",
        "#####As sample size increases, sample mean and variance approach their population values (Law of Large Numbers)."
      ]
    },
    {
      "cell_type": "code",
      "metadata": {
        "colab": {
          "base_uri": "https://localhost:8080/"
        },
        "id": "SI-OdFYcqNTv",
        "outputId": "ee84f309-a293-4619-ecab-7b8e4631d71b"
      },
      "source": [
        "from scipy.stats import bernoulli\n",
        "import numpy as np\n",
        "p = 0.25 #probability of \"success\"\n",
        "EV = p #expectation value (=population mean)\n",
        "Var = p * (1 - p) #population variance\n",
        "N = 100000\n",
        "\n",
        "x = bernoulli.rvs(p, size = N) #Rishi flips one coin N times\n",
        "y = bernoulli.rvs(p, size = (6, 10)) #Rishi rolls two dice 10 times\n",
        "print(\"sample mean / population mean ({} samples) = {}\".format(N, np.round(x.mean() / EV, decimals = 5)))\n",
        "print(\"sample variance / population variance ({} samples) = {}\".format(N, np.round(x.var() / Var, decimals = 5)))"
      ],
      "execution_count": 23,
      "outputs": [
        {
          "output_type": "stream",
          "text": [
            "sample mean / population mean (100000 samples) = 0.99044\n",
            "sample variance / population variance (100000 samples) = 0.9936\n"
          ],
          "name": "stdout"
        }
      ]
    },
    {
      "cell_type": "markdown",
      "metadata": {
        "id": "FeByzVUvtC85"
      },
      "source": [
        "##Binomial distribution"
      ]
    },
    {
      "cell_type": "code",
      "metadata": {
        "colab": {
          "base_uri": "https://localhost:8080/"
        },
        "id": "jz0vwmuItnuB",
        "outputId": "ea772a13-f546-4981-dba7-57cfdc65579b"
      },
      "source": [
        "from scipy.stats import binom\n",
        "# N, k, p = 10, 2, 0.25 #total trials, no. of successes, probability of 1 success\n",
        "# prob = binom.pmf(k, N, p)\n",
        "# print(\"The probability of {} success in {} trials is {}\".format(k, N, np.round(prob, decimals = 5)))\n",
        "# cdf = binom.cdf(k, N, p)\n",
        "# print(\"The probability of at most {} successes in {} trials is {}\".format(k, N, np.round(cdf, decimals = 5)))\n",
        "N = 14; p = 0.4\n",
        "q = 0.95 #trying to locate the 75th percentile\n",
        "k = binom.ppf(q, N, p)\n",
        "print(\"The 75th percentile of successes in {} trials is {}\".format(N, np.round(k, decimals = 5)))"
      ],
      "execution_count": 36,
      "outputs": [
        {
          "output_type": "stream",
          "text": [
            "The 75th percentile of successes in 14 trials is 9.0\n"
          ],
          "name": "stdout"
        }
      ]
    },
    {
      "cell_type": "code",
      "metadata": {
        "colab": {
          "base_uri": "https://localhost:8080/",
          "height": 265
        },
        "id": "KWU8T8_Zt90e",
        "outputId": "46893aa8-bed3-4f12-e283-c15c45f1b277"
      },
      "source": [
        "from matplotlib import pyplot as plt\n",
        "p = 0.4; N = 14\n",
        "x = np.arange(0, N+1)\n",
        "plt.plot(x, binom.pmf(x, N, p), 'ro', ms = 8)\n",
        "plt.vlines(x, 0, binom.pmf(x, N, p), colors = 'r', lw = 5, alpha = 0.5)\n",
        "plt.step(x, binom.pmf(x, N, p), where = 'post', label = 'Binomial PMF')\n",
        "plt.step(x, binom.cdf(x, N, p), where = 'post', label = 'Binomial CDF')\n",
        "plt.show()\n"
      ],
      "execution_count": 31,
      "outputs": [
        {
          "output_type": "display_data",
          "data": {
            "image/png": "[encoded data removed]",
            "text/plain": [
              "<Figure size 432x288 with 1 Axes>"
            ]
          },
          "metadata": {
            "tags": [],
            "needs_background": "light"
          }
        }
      ]
    },
    {
      "cell_type": "markdown",
      "metadata": {
        "id": "YW-SFflqwdQa"
      },
      "source": [
        "####Modify the code above to the following questions:\n",
        "1) For N = 14, p = 0.4, what is the probability of k = 6 successes?<br>\n",
        "2) For N = 14, p = 0.4, what is the probability of having k > 2 successes?<br>\n",
        "3) For N = 14, p = 0.4, for what k is the probability of ≤ k successes at least 0.75?<br>\n",
        "4) For N = 20, p = 0.65, what is the probability of having k >= 12 successes?"
      ]
    },
    {
      "cell_type": "code",
      "metadata": {
        "id": "hZ2lPTIWw0b9"
      },
      "source": [
        ""
      ],
      "execution_count": null,
      "outputs": []
    }
  ]
}