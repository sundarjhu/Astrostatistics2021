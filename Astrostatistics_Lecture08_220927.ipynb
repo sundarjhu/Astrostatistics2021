{
  "nbformat": 4,
  "nbformat_minor": 0,
  "metadata": {
    "colab": {
      "provenance": [],
      "authorship_tag": "ABX9TyM4JkWahfIfIYuF75ZBs7Z4",
      "include_colab_link": true
    },
    "kernelspec": {
      "name": "python3",
      "display_name": "Python 3"
    },
    "language_info": {
      "name": "python"
    }
  },
  "cells": [
    {
      "cell_type": "markdown",
      "metadata": {
        "id": "view-in-github",
        "colab_type": "text"
      },
      "source": [
        "<a href=\"https://colab.research.google.com/github/sundarjhu/Astrostatistics2021/blob/main/Astrostatistics_Lecture08_220927.ipynb\" target=\"_parent\"><img src=\"https://colab.research.google.com/assets/colab-badge.svg\" alt=\"Open In Colab\"/></a>"
      ]
    },
    {
      "cell_type": "markdown",
      "source": [
        "# An instrument with a least count of 0.5 makes the following measurements of a random variable:\n",
        "# 9, 10, 6, 8, 8, 9, 11, 10, 9\n",
        "\n",
        "# Estimate the population mean if the variable is drawn from\n",
        "# a) a Poisson distribution (b) a binomial distribution (c) a normal distribution with $\\sigma = 1$.\n",
        "\n",
        "# Also compute the variance/standard deviation on the estimate in each case."
      ],
      "metadata": {
        "id": "O71QRliMjArR"
      }
    },
    {
      "cell_type": "code",
      "execution_count": null,
      "metadata": {
        "id": "Wi0Y3iB2iw7G"
      },
      "outputs": [],
      "source": [
        "import numpy as np\n",
        "\n",
        "x = np.array([9, 10, 6, 8, 8, 9, 11, 10, 9])"
      ]
    }
  ]
}